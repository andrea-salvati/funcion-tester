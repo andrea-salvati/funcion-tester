{
 "cells": [
  {
   "cell_type": "code",
   "execution_count": 1,
   "metadata": {},
   "outputs": [
    {
     "name": "stderr",
     "output_type": "stream",
     "text": [
      "/Users/andrea.salvati/.pyenv/versions/3.10.0/envs/ads-fixtures-lookup/lib/python3.10/site-packages/snowflake/connector/options.py:96: UserWarning: You have an incompatible version of 'pyarrow' installed (8.0.0), please install a version that adheres to: 'pyarrow<6.1.0,>=6.0.0; extra == \"pandas\"'\n",
      "  warn_incompatible_dep(\n"
     ]
    }
   ],
   "source": [
    "from jinja2 import Template\n",
    "import re\n",
    "import string\n",
    "import snowflake.connector\n",
    "import pandas as pd"
   ]
  },
  {
   "cell_type": "code",
   "execution_count": 2,
   "metadata": {},
   "outputs": [],
   "source": [
    "# define snowflake connection\n",
    "ctx = snowflake.connector.connect(\n",
    "    user='TRANSFORMATION_DEV_SERVICE',\n",
    "    password='T4aN5_D3w_S3erV#',\n",
    "    account='si44367.eu-central-1',\n",
    "    #schema='STAGING',\n",
    "    #database='TRANSFORMATION_DEV',\n",
    "    warehouse='TRANSFORMATION_DEV_S_WH'\n",
    "    )\n",
    "\n",
    "# define run query function \n",
    "def run_query(query):\n",
    "    cs=ctx.cursor()\n",
    "    allrows=cs.execute(query).fetchall()\n",
    "    # write the results of the query into a pandas dataframe \n",
    "    df = pd.DataFrame(allrows, columns=[i[0] for i in cs.description])\n",
    "    # return the dataframe\n",
    "    return df"
   ]
  },
  {
   "cell_type": "code",
   "execution_count": null,
   "metadata": {},
   "outputs": [],
   "source": []
  },
  {
   "cell_type": "markdown",
   "metadata": {},
   "source": [
    "# Test for application_category_parser"
   ]
  },
  {
   "cell_type": "code",
   "execution_count": 9,
   "metadata": {},
   "outputs": [],
   "source": [
    "# define function to test\n",
    "func_name = 'application_category_parser'\n",
    "test_value = 'skyq'"
   ]
  },
  {
   "cell_type": "code",
   "execution_count": 103,
   "metadata": {},
   "outputs": [],
   "source": [
    "# read the function\n",
    "with open('functions' + \"/\" + func_name + \".sql\", 'r') as jinja_file:\n",
    "    jinja_func = jinja_file.read()"
   ]
  },
  {
   "cell_type": "code",
   "execution_count": 105,
   "metadata": {},
   "outputs": [
    {
     "name": "stdout",
     "output_type": "stream",
     "text": [
      "CASE             WHEN LOWER(\"{{ application_type }}\") IN ('smartcast'                                                 ,'has_player'                                                 ,'tizen'                                                 ,'xfinity'                                                 ,'fairplay'                                                 ,'webos'                                                 ,'exoplayer'                                                 ,'abstract method'                                                 ,'tv web'                                                 ,'skyq'                                                 ,'mdk_sky_q'                                                 ,'roku tv'                                                 ,'shaka'                                                 ,'netcast'                                                 ,'orsay'                                                 ,'opera tv'                                                 ,'chromecast'                                                 ,'mdk_android_tv'                                                 ,'hisense'                                                 ,'xbox one'                                                 ,'playstation 4'                                                 ,'playstation 3'                                                 ,'apple tv'                                                 ,'toshiba tv'                                                 ,'panasonic tv'                                                 ,'sony tv'                                                 ,'android tv'                                                 ,'hisensejp'                                                 ,'sonyceb'                                                 ,'mdk_webmaf'                                                 ,'funai') THEN 'Living Room'         WHEN LOWER(\"{{ application_type }}\") IN ('ios', 'android') THEN 'Mobile'         WHEN LOWER(\"{{ application_type }}\") = 'web' THEN 'Web'         ELSE 'Others'         END\n"
     ]
    }
   ],
   "source": [
    "# cast the function to string and clean it\n",
    "clean_function = jinja_func.split('\\n')[2:][:-2]\n",
    "str_func = ' '.join(clean_function)\n",
    "print(str_func)"
   ]
  },
  {
   "cell_type": "code",
   "execution_count": 114,
   "metadata": {},
   "outputs": [],
   "source": [
    "jinja_func_temp = Template(str_func)\n",
    "jinja_func_final = jinja_func_temp.render({\"application_type\": 'skyq'})\n",
    "jinja_func_final = jinja_func_final.replace('\"',\"'\")"
   ]
  },
  {
   "cell_type": "code",
   "execution_count": 118,
   "metadata": {},
   "outputs": [
    {
     "data": {
      "text/html": [
       "<div>\n",
       "<style scoped>\n",
       "    .dataframe tbody tr th:only-of-type {\n",
       "        vertical-align: middle;\n",
       "    }\n",
       "\n",
       "    .dataframe tbody tr th {\n",
       "        vertical-align: top;\n",
       "    }\n",
       "\n",
       "    .dataframe thead th {\n",
       "        text-align: right;\n",
       "    }\n",
       "</style>\n",
       "<table border=\"1\" class=\"dataframe\">\n",
       "  <thead>\n",
       "    <tr style=\"text-align: right;\">\n",
       "      <th></th>\n",
       "      <th>output_value</th>\n",
       "    </tr>\n",
       "  </thead>\n",
       "  <tbody>\n",
       "    <tr>\n",
       "      <th>0</th>\n",
       "      <td>Living Room</td>\n",
       "    </tr>\n",
       "  </tbody>\n",
       "</table>\n",
       "</div>"
      ],
      "text/plain": [
       "  output_value\n",
       "0  Living Room"
      ]
     },
     "execution_count": 118,
     "metadata": {},
     "output_type": "execute_result"
    }
   ],
   "source": [
    "run_query('SELECT ' + jinja_func_final)"
   ]
  },
  {
   "cell_type": "markdown",
   "metadata": {},
   "source": [
    "# test for cdn_parser"
   ]
  },
  {
   "cell_type": "code",
   "execution_count": 119,
   "metadata": {},
   "outputs": [],
   "source": [
    "# define function to test\n",
    "func_name = 'cdn_parser'"
   ]
  },
  {
   "cell_type": "code",
   "execution_count": 120,
   "metadata": {},
   "outputs": [],
   "source": [
    "# read the function\n",
    "with open('functions' + \"/\" + func_name + \".sql\", 'r') as jinja_file:\n",
    "    jinja_func = jinja_file.read()"
   ]
  },
  {
   "cell_type": "code",
   "execution_count": 121,
   "metadata": {},
   "outputs": [
    {
     "name": "stdout",
     "output_type": "stream",
     "text": [
      "CASE     WHEN \"{{ start_time_unix }}\" >= 1506124800 AND LEFT(\"{{ stream_url }}\",40) ILIKE '%akamai%' THEN 'Akamai'     WHEN \"{{ start_time_unix }}\" >= 1506124800 AND LEFT(\"{{ stream_url }}\",40) ILIKE '%ll%' THEN 'Limelight'     WHEN \"{{ start_time_unix }}\" >= 1506124800 AND LEFT(\"{{ stream_url }}\",40) ILIKE '%cf%' THEN 'Amazon'     WHEN \"{{ start_time_unix }}\" >= 1506124800 AND \"{{ stream_url }}\" ILIKE '%perform.secure.footprint.net%' THEN 'CenturyLink'     WHEN \"{{ start_time_unix }}\" >= 1506124800 AND LEFT(\"{{ stream_url }}\",40) ILIKE '%fw%' THEN 'Flow'     WHEN \"{{ start_time_unix }}\" >= 1506124800 AND LEFT(\"{{ stream_url }}\",40) ILIKE '%vn%' THEN 'Verizon'     WHEN \"{{ start_time_unix }}\" >= 1506124800 AND LEFT(\"{{ stream_url }}\",40) ILIKE '%un%' THEN 'UDN'     WHEN \"{{ start_time_unix }}\" >= 1506124800 AND LEFT(\"{{ stream_url }}\",40) ILIKE '%dr%' THEN 'DLVR'     WHEN \"{{ start_time_unix }}\" >= 1506124800 AND LEFT(\"{{ stream_url }}\",40) ILIKE '%ac%' THEN 'Amazon'     WHEN \"{{ start_time_unix }}\" >= 1506124800 AND LEFT(\"{{ stream_url }}\",40) ILIKE '%ak%' THEN 'Akamai'     WHEN \"{{ start_time_unix }}\" >= 1506124800 AND LEFT(\"{{ stream_url }}\",40) ILIKE '%cl%' THEN 'CenturyLink'     WHEN \"{{ start_time_unix }}\" >= 1506124800 AND \"{{ stream_url }}\" ILIKE '%dazn.secure.footprint.net%' THEN 'CenturyLink'     WHEN \"{{ start_time_unix }}\" >= 1506124800 AND LEFT(\"{{ stream_url }}\",40) ILIKE '%llit%' THEN 'Limelight'     WHEN \"{{ start_time_unix }}\" >= 1506124800 AND LEFT(\"{{ stream_url }}\",40) ILIKE '%lldach%' THEN 'Limelight'     WHEN \"{{ start_time_unix }}\" >= 1506124800 AND LEFT(\"{{ stream_url }}\",40) ILIKE '%llca%' THEN 'Limelight'     WHEN \"{{ start_time_unix }}\" >= 1506124800 AND LEFT(\"{{ stream_url }}\",40) ILIKE '%lles%' THEN 'Limelight'     WHEN \"{{ start_time_unix }}\" >= 1506124800 AND LEFT(\"{{ stream_url }}\",40) ILIKE '%az%' THEN 'Microsoft Azure'     WHEN \"{{ start_time_unix }}\" >= 1506124800 AND LEFT(\"{{ stream_url }}\",40) ILIKE '%gc%' THEN 'Google'     WHEN \"{{ start_time_unix }}\" >= 1506124800 AND LEFT(\"{{ stream_url }}\",40) ILIKE '%ms%' THEN 'Mainstreaming'     WHEN \"{{ start_time_unix }}\" >= 1506124800 AND LEFT(\"{{ stream_url }}\",40) ILIKE '%br%' THEN 'Broadpeak'     WHEN \"{{ start_time_unix }}\" >= 1506124800 AND LEFT(\"{{ stream_url }}\",40) ILIKE '%sh%' THEN 'Stackpath'     WHEN \"{{ start_time_unix }}\" >= 1506124800 AND \"{{ stream_url }}\" IS NULL THEN 'Unknown'     WHEN \"{{ start_time_unix }}\" < 1506124800 THEN NULL     ELSE 'Other' END\n"
     ]
    }
   ],
   "source": [
    "# cast the function to string and clean it\n",
    "clean_function = jinja_func.split('\\n')[2:][:-2]\n",
    "str_func = ' '.join(clean_function)\n",
    "print(str_func)"
   ]
  },
  {
   "cell_type": "code",
   "execution_count": 146,
   "metadata": {},
   "outputs": [
    {
     "data": {
      "text/plain": [
       "['start_time_unix', 'stream_url']"
      ]
     },
     "execution_count": 146,
     "metadata": {},
     "output_type": "execute_result"
    }
   ],
   "source": [
    "# isolate the arguments of the function\n",
    "args = re.findall(r\"{{ (.*?) }}\", str_func)\n",
    "args = list(dict.fromkeys(args))\n",
    "args\n"
   ]
  },
  {
   "cell_type": "code",
   "execution_count": 131,
   "metadata": {},
   "outputs": [],
   "source": [
    "jinja_func_temp = Template(str_func)"
   ]
  },
  {
   "cell_type": "code",
   "execution_count": null,
   "metadata": {},
   "outputs": [],
   "source": []
  },
  {
   "cell_type": "code",
   "execution_count": null,
   "metadata": {},
   "outputs": [],
   "source": []
  },
  {
   "cell_type": "code",
   "execution_count": 21,
   "metadata": {},
   "outputs": [],
   "source": [
    "access_history = run_query(\"\"\"\n",
    "SELECT \n",
    "    BASE_OBJECT_NAME\n",
    "    ,MODIFIED_OBJECT_NAME\n",
    "    ,MIN(QUERY_START_TIME) AS MIN_QUERY_START_TIME\n",
    "FROM \"TRANSFORMATION_PROD\".\"METADATA\".\"MM_ACCESS_HISTORY\" \n",
    "WHERE 1=1\n",
    "    AND \"QUERY_START_TIME\" > DATEADD('day', -1, CURRENT_DATE) \n",
    "    AND MODIFIED_OBJECT_NAME IS NOT NULL\n",
    "    AND BASE_OBJECT_NAME <> MODIFIED_OBJECT_NAME\n",
    "    AND BASE_OBJECT_NAME IS NOT NULL\n",
    "    AND BASE_DATABASE_NAME IN ('PRD_PROD', 'EDM_PROD')\n",
    "    AND MODIFIED_DATABASE_NAME IN ('PRD_PROD', 'EDM_PROD')\n",
    "GROUP BY 1,2\n",
    "ORDER BY MIN_QUERY_START_TIME DESC\n",
    "\"\"\")"
   ]
  },
  {
   "cell_type": "code",
   "execution_count": 22,
   "metadata": {},
   "outputs": [
    {
     "data": {
      "text/html": [
       "<div>\n",
       "<style scoped>\n",
       "    .dataframe tbody tr th:only-of-type {\n",
       "        vertical-align: middle;\n",
       "    }\n",
       "\n",
       "    .dataframe tbody tr th {\n",
       "        vertical-align: top;\n",
       "    }\n",
       "\n",
       "    .dataframe thead th {\n",
       "        text-align: right;\n",
       "    }\n",
       "</style>\n",
       "<table border=\"1\" class=\"dataframe\">\n",
       "  <thead>\n",
       "    <tr style=\"text-align: right;\">\n",
       "      <th></th>\n",
       "      <th>BASE_OBJECT_NAME</th>\n",
       "      <th>MODIFIED_OBJECT_NAME</th>\n",
       "      <th>MIN_QUERY_START_TIME</th>\n",
       "    </tr>\n",
       "  </thead>\n",
       "  <tbody>\n",
       "    <tr>\n",
       "      <th>0</th>\n",
       "      <td>\"PRD_PROD.ANALYTICS.\\\"tziei\\\"\"</td>\n",
       "      <td>\"PRD_PROD.ANALYTICS.\\\"custom_trigger_logs\\\"\"</td>\n",
       "      <td>2022-05-30 08:56:32.448000+00:00</td>\n",
       "    </tr>\n",
       "    <tr>\n",
       "      <th>1</th>\n",
       "      <td>\"PRD_PROD.STAGING.\\\"opreng_JSE_SUB_BASE_JOINED...</td>\n",
       "      <td>\"PRD_PROD.DMT_LOOKER.\\\"operator_engagement_mon...</td>\n",
       "      <td>2022-05-30 08:54:34.775000+00:00</td>\n",
       "    </tr>\n",
       "    <tr>\n",
       "      <th>2</th>\n",
       "      <td>\"PRD_PROD.STAGING.\\\"opreng_TEST5_MONTHLY\\\"\"</td>\n",
       "      <td>\"PRD_PROD.STAGING.\\\"opreng_JSE_SUB_BASE_JOINED...</td>\n",
       "      <td>2022-05-30 08:54:04.367000+00:00</td>\n",
       "    </tr>\n",
       "    <tr>\n",
       "      <th>3</th>\n",
       "      <td>\"PRD_PROD.STAGING.\\\"opreng_JSE_SUB_BASE_JOINED...</td>\n",
       "      <td>\"PRD_PROD.STAGING.\\\"opreng_JSE_SUB_BASE_JOINED...</td>\n",
       "      <td>2022-05-30 08:54:04.367000+00:00</td>\n",
       "    </tr>\n",
       "    <tr>\n",
       "      <th>4</th>\n",
       "      <td>\"PRD_PROD.STAGING.\\\"opreng_ENGAGED_MONTHLY_L1\\\"\"</td>\n",
       "      <td>\"PRD_PROD.STAGING.\\\"opreng_JSE_SUB_BASE_JOINED...</td>\n",
       "      <td>2022-05-30 08:54:04.367000+00:00</td>\n",
       "    </tr>\n",
       "    <tr>\n",
       "      <th>...</th>\n",
       "      <td>...</td>\n",
       "      <td>...</td>\n",
       "      <td>...</td>\n",
       "    </tr>\n",
       "    <tr>\n",
       "      <th>4157</th>\n",
       "      <td>\"EDM_PROD.OPEN_DOTS.\\\"Messages\\\"\"</td>\n",
       "      <td>\"PRD_PROD.STAGING.\\\"whtonv_VODPRODUCT_LATEST\\\"\"</td>\n",
       "      <td>2022-05-29 00:03:19.252000+00:00</td>\n",
       "    </tr>\n",
       "    <tr>\n",
       "      <th>4158</th>\n",
       "      <td>\"EDM_PROD.OPEN_DOTS.\\\"Messages\\\"\"</td>\n",
       "      <td>\"PRD_PROD.STAGING.\\\"whtonr_CONTRACT_LATEST\\\"\"</td>\n",
       "      <td>2022-05-29 00:03:16.115000+00:00</td>\n",
       "    </tr>\n",
       "    <tr>\n",
       "      <th>4159</th>\n",
       "      <td>\"EDM_PROD.OPEN_DOTS.\\\"Messages\\\"\"</td>\n",
       "      <td>\"PRD_PROD.STAGING.\\\"whtonr_RIGHTSHOLDER_LATEST\\\"\"</td>\n",
       "      <td>2022-05-29 00:03:15.789000+00:00</td>\n",
       "    </tr>\n",
       "    <tr>\n",
       "      <th>4160</th>\n",
       "      <td>\"EDM_PROD.OPEN_DOTS.\\\"Messages\\\"\"</td>\n",
       "      <td>\"PRD_PROD.STAGING.\\\"whtonr_LIVERIGHT_LATEST\\\"\"</td>\n",
       "      <td>2022-05-29 00:03:15.474000+00:00</td>\n",
       "    </tr>\n",
       "    <tr>\n",
       "      <th>4161</th>\n",
       "      <td>\"PRD_PROD.ANALYTICS.\\\"ahusf\\\"\"</td>\n",
       "      <td>\"PRD_PROD.ANALYTICS.\\\"custom_trigger_logs\\\"\"</td>\n",
       "      <td>2022-05-29 00:02:40.356000+00:00</td>\n",
       "    </tr>\n",
       "  </tbody>\n",
       "</table>\n",
       "<p>4162 rows × 3 columns</p>\n",
       "</div>"
      ],
      "text/plain": [
       "                                       BASE_OBJECT_NAME  \\\n",
       "0                        \"PRD_PROD.ANALYTICS.\\\"tziei\\\"\"   \n",
       "1     \"PRD_PROD.STAGING.\\\"opreng_JSE_SUB_BASE_JOINED...   \n",
       "2           \"PRD_PROD.STAGING.\\\"opreng_TEST5_MONTHLY\\\"\"   \n",
       "3     \"PRD_PROD.STAGING.\\\"opreng_JSE_SUB_BASE_JOINED...   \n",
       "4      \"PRD_PROD.STAGING.\\\"opreng_ENGAGED_MONTHLY_L1\\\"\"   \n",
       "...                                                 ...   \n",
       "4157                  \"EDM_PROD.OPEN_DOTS.\\\"Messages\\\"\"   \n",
       "4158                  \"EDM_PROD.OPEN_DOTS.\\\"Messages\\\"\"   \n",
       "4159                  \"EDM_PROD.OPEN_DOTS.\\\"Messages\\\"\"   \n",
       "4160                  \"EDM_PROD.OPEN_DOTS.\\\"Messages\\\"\"   \n",
       "4161                     \"PRD_PROD.ANALYTICS.\\\"ahusf\\\"\"   \n",
       "\n",
       "                                   MODIFIED_OBJECT_NAME  \\\n",
       "0          \"PRD_PROD.ANALYTICS.\\\"custom_trigger_logs\\\"\"   \n",
       "1     \"PRD_PROD.DMT_LOOKER.\\\"operator_engagement_mon...   \n",
       "2     \"PRD_PROD.STAGING.\\\"opreng_JSE_SUB_BASE_JOINED...   \n",
       "3     \"PRD_PROD.STAGING.\\\"opreng_JSE_SUB_BASE_JOINED...   \n",
       "4     \"PRD_PROD.STAGING.\\\"opreng_JSE_SUB_BASE_JOINED...   \n",
       "...                                                 ...   \n",
       "4157    \"PRD_PROD.STAGING.\\\"whtonv_VODPRODUCT_LATEST\\\"\"   \n",
       "4158      \"PRD_PROD.STAGING.\\\"whtonr_CONTRACT_LATEST\\\"\"   \n",
       "4159  \"PRD_PROD.STAGING.\\\"whtonr_RIGHTSHOLDER_LATEST\\\"\"   \n",
       "4160     \"PRD_PROD.STAGING.\\\"whtonr_LIVERIGHT_LATEST\\\"\"   \n",
       "4161       \"PRD_PROD.ANALYTICS.\\\"custom_trigger_logs\\\"\"   \n",
       "\n",
       "                 MIN_QUERY_START_TIME  \n",
       "0    2022-05-30 08:56:32.448000+00:00  \n",
       "1    2022-05-30 08:54:34.775000+00:00  \n",
       "2    2022-05-30 08:54:04.367000+00:00  \n",
       "3    2022-05-30 08:54:04.367000+00:00  \n",
       "4    2022-05-30 08:54:04.367000+00:00  \n",
       "...                               ...  \n",
       "4157 2022-05-29 00:03:19.252000+00:00  \n",
       "4158 2022-05-29 00:03:16.115000+00:00  \n",
       "4159 2022-05-29 00:03:15.789000+00:00  \n",
       "4160 2022-05-29 00:03:15.474000+00:00  \n",
       "4161 2022-05-29 00:02:40.356000+00:00  \n",
       "\n",
       "[4162 rows x 3 columns]"
      ]
     },
     "execution_count": 22,
     "metadata": {},
     "output_type": "execute_result"
    }
   ],
   "source": [
    "access_history"
   ]
  },
  {
   "cell_type": "code",
   "execution_count": 10,
   "metadata": {},
   "outputs": [],
   "source": [
    "import sys\n",
    "sys.setrecursionlimit(20000)"
   ]
  },
  {
   "cell_type": "code",
   "execution_count": 12,
   "metadata": {},
   "outputs": [],
   "source": [
    "table_name = '\"PRD_PROD.ANALYTICS.\\\\\"watch_party_sessions_enriched\\\\\"\"'\n",
    "lineage = [table_name]\n",
    "\n",
    "\n",
    "def run_loop(table_name,df):\n",
    "    lineage = [table_name]\n",
    "    for index,table in enumerate(df['MODIFIED_OBJECT_NAME']):\n",
    "        #print(index,table)\n",
    "        if table == table_name:\n",
    "            if len(df[df['MODIFIED_OBJECT_NAME']==table_name]) == 1 :\n",
    "            #print(table)\n",
    "                lineage.append(df['BASE_OBJECT_NAME'].iloc[index])\n",
    "                table_name = df['BASE_OBJECT_NAME'].iloc[index] \n",
    "                #df_1=df.drop(index)\n",
    "                #print(df_1)\n",
    "                run_loop(table_name,df)      \n",
    "               # print(lineage)\n",
    "            else:\n",
    "                lsite=df[df['MODIFIED_OBJECT_NAME']==table_name]['BASE_OBJECT_NAME'].to_list()\n",
    "                #print(df[df['MODIFIED_OBJECT_NAME']==table_name]['BASE_OBJECT_NAME'].to_list())\n",
    "                for i in lsite:\n",
    "                    #print(i)\n",
    "                    lineage.append(i)\n",
    "                    table_name = i\n",
    "                    run_loop(table_name,df)\n",
    "    print(lineage)"
   ]
  },
  {
   "cell_type": "code",
   "execution_count": null,
   "metadata": {},
   "outputs": [],
   "source": [
    "lineage_fun = run_loop('\"PRD_PROD.ANALYTICS.\\\\\"watch_party_sessions_enriched\\\\\"\"', access_history)"
   ]
  },
  {
   "cell_type": "code",
   "execution_count": 11,
   "metadata": {},
   "outputs": [
    {
     "data": {
      "text/plain": [
       "['\"PRD_PROD.ANALYTICS.\\\\\"watch_party_sessions_enriched\\\\\"\"']"
      ]
     },
     "execution_count": 11,
     "metadata": {},
     "output_type": "execute_result"
    }
   ],
   "source": [
    "lineage"
   ]
  },
  {
   "cell_type": "code",
   "execution_count": null,
   "metadata": {},
   "outputs": [],
   "source": [
    "table_name = ['\"PRD_PROD.ANALYTICS.\\\\\"watch_party_sessions_enriched\\\\\"\"']\n",
    "last_input_table = ''\n",
    "lineage = [table_name]\n",
    "i=0\n",
    "\n",
    "while i <= len(access_history['BASE_OBJECT_NAME']):\n",
    "    for input_table in table_name:\n",
    "        #print(input_table)\n",
    "        for index,table in enumerate(access_history['MODIFIED_OBJECT_NAME']):\n",
    "            if (table == input_table):\n",
    "                lineage.append(access_history['BASE_OBJECT_NAME'].iloc[index])\n",
    "                table_name = access_history[access_history['MODIFIED_OBJECT_NAME'] == input_table]['BASE_OBJECT_NAME']\n",
    "                #print(table_name)\n",
    "    i += 1\n",
    "    print(i)"
   ]
  },
  {
   "cell_type": "code",
   "execution_count": 33,
   "metadata": {},
   "outputs": [
    {
     "data": {
      "text/plain": [
       "['\"PRD_PROD.ANALYTICS.\\\\\"watch_party_sessions_enriched__dbt_tmp\\\\\"\"',\n",
       " '\"PRD_PROD.ANALYTICS.\\\\\"watch_party_sessions_enriched\\\\\"\"',\n",
       " '\"PRD_PROD.STAGING.\\\\\"watch_party_load\\\\\"\"']"
      ]
     },
     "execution_count": 33,
     "metadata": {},
     "output_type": "execute_result"
    }
   ],
   "source": [
    "lineage_new = list(dict.fromkeys(lineage[1:]))\n",
    "lineage_new"
   ]
  },
  {
   "cell_type": "code",
   "execution_count": 36,
   "metadata": {},
   "outputs": [],
   "source": [
    "table_name = '\"PRD_PROD.ANALYTICS.\\\\\"watch_party_sessions_enriched\\\\\"\"'\n",
    "lineage = [table_name]\n",
    "\n",
    "def get_lineage(table_name,df):\n",
    "    tables_used=df[df['MODIFIED_OBJECT_NAME']==table_name]['BASE_OBJECT_NAME'].to_list()\n",
    "    for i in tables_used:\n",
    "        if i in lineage:\n",
    "            continue\n",
    "        else:\n",
    "            lineage.append(i)\n",
    "            print(i)\n",
    "            get_lineage(i,df)\n",
    "    return(lineage)\n"
   ]
  },
  {
   "cell_type": "code",
   "execution_count": 38,
   "metadata": {},
   "outputs": [
    {
     "data": {
      "text/plain": [
       "['\"PRD_PROD.ANALYTICS.\\\\\"watch_party_sessions_enriched\\\\\"\"',\n",
       " '\"PRD_PROD.ANALYTICS.\\\\\"watch_party_sessions_enriched__dbt_tmp\\\\\"\"',\n",
       " '\"PRD_PROD.STAGING.\\\\\"watch_party_load\\\\\"\"',\n",
       " '\"PRD_PROD.STAGING.\\\\\"watch_party_daily_load\\\\\"\"',\n",
       " '\"PRD_PROD.STAGING.PLAYS_FACT_SAMPLE\"',\n",
       " '\"PRD_PROD.ANALYTICS.\\\\\"plays_fact_dn\\\\\"\"',\n",
       " '\"PRD_PROD.ANALYTICS.\\\\\"plays_fact_dn__dbt_tmp\\\\\"\"',\n",
       " '\"PRD_PROD.STAGING.\\\\\"join_errors_back_in\\\\\"\"',\n",
       " '\"PRD_PROD.STAGING.\\\\\"plays_fact_dn_temp\\\\\"\"',\n",
       " '\"PRD_PROD.STAGING.\\\\\"b2c_pfdn_pre1\\\\\"\"',\n",
       " '\"PRD_PROD.ANALYTICS.\\\\\"region_dimension\\\\\"\"',\n",
       " '\"PRD_PROD.STAGING.UNION_CUSTOMER_ROWS\"',\n",
       " '\"PRD_PROD.STAGING.GET_ALL_ROWS\"',\n",
       " '\"PRD_PROD.ANALYTICS.\\\\\"customer_history_scd\\\\\"\"',\n",
       " '\"PRD_PROD.STAGING.\\\\\"non_quarantined_scd_data\\\\\"\"',\n",
       " '\"PRD_PROD.STAGING.\\\\\"sql_customer_dimension_quarantine_dt\\\\\"\"',\n",
       " '\"PRD_PROD.STAGING.\\\\\"partition_customer_scd_temp_dt\\\\\"\"',\n",
       " '\"PRD_PROD.STAGING.\\\\\"join_add_detail_temp_dt\\\\\"\"',\n",
       " '\"PRD_PROD.ANALYTICS.\\\\\"oem_partners_dimension\\\\\"\"',\n",
       " '\"PRD_PROD.STAGING.\\\\\"partition_add_detail_temp_dt\\\\\"\"',\n",
       " '\"PRD_PROD.ANALYTICS.\\\\\"customer_history_scd_raw\\\\\"\"',\n",
       " '\"PRD_PROD.ANALYTICS.\\\\\"billed_amount_scd\\\\\"\"',\n",
       " '\"PRD_PROD.ANALYTICS.\\\\\"enriched_invoices\\\\\"\"',\n",
       " '\"EDM_PROD.OPEN_ZUORAV2.\\\\\"InvoiceItem\\\\\"\"',\n",
       " '\"EDM_PROD.OPEN_ZUORAV2.\\\\\"InvoiceItem_Tmp\\\\\"\"',\n",
       " '\"EDM_PROD.OPEN_ZUORAV2.\\\\\"Stage_ZuoraV2\\\\\"\"',\n",
       " '\"EDM_PROD.OPEN_ZUORAV2.\\\\\"InvoiceItemAdjustment\\\\\"\"',\n",
       " '\"EDM_PROD.OPEN_ZUORAV2.\\\\\"InvoiceItemAdjustment_Tmp\\\\\"\"',\n",
       " '\"EDM_PROD.OPEN_ZUORAV2.\\\\\"Invoice\\\\\"\"',\n",
       " '\"EDM_PROD.OPEN_ZUORAV2.\\\\\"Invoice_Tmp\\\\\"\"',\n",
       " '\"EDM_PROD.OPEN_ZUORAV2.\\\\\"Account\\\\\"\"',\n",
       " '\"EDM_PROD.OPEN_ZUORAV2.\\\\\"Subscription\\\\\"\"',\n",
       " '\"PRD_PROD.STAGING.\\\\\"filter_payments_scd_temp_dt\\\\\"\"',\n",
       " '\"PRD_PROD.ANALYTICS.\\\\\"zuora_payments_scd\\\\\"\"',\n",
       " '\"PRD_PROD.STAGING.SET_EFFECTIVE_DATES\"',\n",
       " '\"PRD_PROD.STAGING.GET_LATEST_PAYMENT\"',\n",
       " '\"PRD_PROD.STAGING.JOIN_PAYMENT_TO_ID\"',\n",
       " '\"EDM_PROD.OPEN_ZUORAV2.\\\\\"Payment\\\\\"\"',\n",
       " '\"EDM_PROD.OPEN_ZUORAV2.\\\\\"Payment_Tmp\\\\\"\"',\n",
       " '\"PRD_PROD.ANALYTICS.\\\\\"s3_adyen_response_codes_mapping\\\\\"\"',\n",
       " '\"PRD_PROD.ANALYTICS.\\\\\"customer_identity_dimension\\\\\"\"',\n",
       " '\"PRD_PROD.STAGING.\\\\\"sql_payments_quarantine_temp_dt\\\\\"\"',\n",
       " '\"PRD_PROD.STAGING.\\\\\"filter_sf_account_scd_temp_dt\\\\\"\"',\n",
       " '\"PRD_PROD.ANALYTICS.\\\\\"salesforce_account_history_scd\\\\\"\"',\n",
       " '\"PRD_PROD.STAGING.\\\\\"partition_sf_account_temp_dt\\\\\"\"',\n",
       " '\"PRD_PROD.STAGING.\\\\\"dedup_rows_1\\\\\"\"',\n",
       " '\"PRD_PROD.STAGING.\\\\\"join_account_to_user\\\\\"\"',\n",
       " '\"EDM_PROD.OPEN_SALESFORCE.\\\\\"Account\\\\\"\"',\n",
       " '\"EDM_PROD.OPEN_SALESFORCE.\\\\\"User\\\\\"\"',\n",
       " '\"PRD_PROD.STAGING.\\\\\"sql_sf_accounts_quarantine_temp_dt\\\\\"\"',\n",
       " '\"PRD_PROD.STAGING.FILTER_SUB_TYPE_SCD\"',\n",
       " '\"PRD_PROD.ANALYTICS.\\\\\"zuora_subscription_type_scd\\\\\"\"',\n",
       " '\"PRD_PROD.STAGING.\\\\\"d2d_dummy_data\\\\\"\"',\n",
       " '\"PRD_PROD.STAGING.RATEPLAN_DUMMY_DATA\"',\n",
       " '\"PRD_PROD.STAGING.\\\\\"filter_pm_scd_temp_dt\\\\\"\"',\n",
       " '\"PRD_PROD.ANALYTICS.\\\\\"zuora_payment_method_scd\\\\\"\"',\n",
       " '\"PRD_PROD.STAGING.\\\\\"pay_join_pm_changes_temp_dt\\\\\"\"',\n",
       " '\"PRD_PROD.STAGING.\\\\\"pay_group_changes_temp_dt\\\\\"\"',\n",
       " '\"PRD_PROD.STAGING.\\\\\"pay_partition_change_flag_temp_dt_joined\\\\\"\"',\n",
       " '\"PRD_PROD.ANALYTICS.\\\\\"zuora_account_scd\\\\\"\"',\n",
       " '\"PRD_PROD.STAGING.\\\\\"sql_accounts_quarantine_temp_dt\\\\\"\"',\n",
       " '\"PRD_PROD.STAGING.\\\\\"partition_account_scd_temp_dt\\\\\"\"',\n",
       " '\"PRD_PROD.STAGING.CLEAN_CRMID\"',\n",
       " '\"PRD_PROD.STAGING.\\\\\"pay_partition_change_flag_temp_dt\\\\\"\"',\n",
       " '\"PRD_PROD.STAGING.\\\\\"pay_partition_payment_method_temp_dt_1\\\\\"\"',\n",
       " '\"PRD_PROD.STAGING.\\\\\"partition_payment_method_temp_dt\\\\\"\"',\n",
       " '\"EDM_PROD.OPEN_ZUORAV2.\\\\\"PaymentMethod\\\\\"\"',\n",
       " '\"PRD_PROD.ANALYTICS.\\\\\"zuora_subscription_scd\\\\\"\"',\n",
       " '\"PRD_PROD.STAGING.\\\\\"sql_subscription_quarantine_temp_dt\\\\\"\"',\n",
       " '\"PRD_PROD.STAGING.\\\\\"partition_amendments_sc_temp_dt\\\\\"\"',\n",
       " '\"PRD_PROD.STAGING.\\\\\"partition_amendments_temp_dt\\\\\"\"',\n",
       " '\"PRD_PROD.STAGING.\\\\\"join_amendments_temp_dt\\\\\"\"',\n",
       " '\"PRD_PROD.STAGING.\\\\\"partition_amendment_scd_temp_dt\\\\\"\"',\n",
       " '\"EDM_PROD.OPEN_ZUORAV2.\\\\\"Amendment\\\\\"\"',\n",
       " '\"EDM_PROD.OPEN_ZUORAV2.\\\\\"Amendment_Tmp\\\\\"\"',\n",
       " '\"PRD_PROD.STAGING.\\\\\"partition_subscriptions_scd_temp_dt\\\\\"\"',\n",
       " '\"PRD_PROD.STAGING.\\\\\"join_subscription_crm_temp_dt\\\\\"\"',\n",
       " '\"PRD_PROD.STAGING.\\\\\"partition_subscription_dedup_temp_dt\\\\\"\"',\n",
       " '\"PRD_PROD.STAGING.\\\\\"pay_group_payment_method_temp_dt\\\\\"\"',\n",
       " '\"PRD_PROD.STAGING.\\\\\"sql_payment_method_quarantine_temp_dt\\\\\"\"',\n",
       " '\"PRD_PROD.STAGING.\\\\\"filter_accounts_scd_temp_dt\\\\\"\"',\n",
       " '\"PRD_PROD.STAGING.\\\\\"filter_giftcode_scd_temp_dt\\\\\"\"',\n",
       " '\"PRD_PROD.ANALYTICS.\\\\\"salesforce_giftcode_history_scd\\\\\"\"',\n",
       " '\"PRD_PROD.STAGING.\\\\\"sql_giftcode_quarantine\\\\\"\"',\n",
       " '\"PRD_PROD.STAGING.\\\\\"windows_giftcode\\\\\"\"',\n",
       " '\"EDM_PROD.OPEN_SALESFORCE.\\\\\"GiftCode\\\\\"\"',\n",
       " '\"EDM_PROD.OPEN_SALESFORCE.\\\\\"GiftCode_Tmp\\\\\"\"',\n",
       " '\"EDM_PROD.OPEN_SALESFORCE.\\\\\"Salesforce_Csv_ST\\\\\"\"',\n",
       " '\"PRD_PROD.STAGING.\\\\\"sql_sf_accounts_date_ranges_temp_dt\\\\\"\"',\n",
       " '\"PRD_PROD.STAGING.\\\\\"filter_subscription_scd_temp_dt\\\\\"\"',\n",
       " '\"PRD_PROD.ANALYTICS.\\\\\"cust_hist_scd_test_sample\\\\\"\"',\n",
       " '\"PRD_PROD.ANALYTICS.\\\\\"docomo_test_users_fact\\\\\"\"',\n",
       " '\"PRD_PROD.ANALYTICS.\\\\\"docomo_test_users_fact__dbt_tmp\\\\\"\"',\n",
       " '\"PRD_PROD.STAGING.\\\\\"docomo_daily_load\\\\\"\"',\n",
       " '\"PRD_PROD.ANALYTICS.\\\\\"customer_type_trans_dimension\\\\\"\"',\n",
       " '\"PRD_PROD.ANALYTICS.\\\\\"first_seen_datetime_fact\\\\\"\"',\n",
       " '\"PRD_PROD.ANALYTICS.\\\\\"first_seen_datetime_fact__dbt_tmp\\\\\"\"',\n",
       " '\"PRD_PROD.STAGING.GET_GA_ROWS\"',\n",
       " '\"EDM_PROD.OPEN_GOOGLEANALYTICS.\\\\\"FlatSession\\\\\"\"',\n",
       " '\"EDM_PROD.OPEN_GOOGLEANALYTICS.\\\\\"Open_Session_Tmp\\\\\"\"',\n",
       " '\"EDM_PROD.OPEN_GOOGLEANALYTICS.\\\\\"Session_Tmp\\\\\"\"',\n",
       " '\"EDM_PROD.OPEN_GOOGLEANALYTICS.\\\\\"Session_Avro_ST\\\\\"\"',\n",
       " '\"PRD_PROD.STAGING.GET_FB_ROWS\"',\n",
       " '\"EDM_PROD.OPEN_FIREBASEANALYTICS.\\\\\"FlatEvent\\\\\"\"',\n",
       " '\"PRD_PROD.STAGING.GET_CONVIVA_ROWS\"',\n",
       " '\"EDM_PROD.OPEN_CONVIVAEXPERIENCESSD.\\\\\"SessionSourceData\\\\\"\"',\n",
       " '\"PRD_PROD.STAGING.CUSTOMER_DATA_CLEANED\"',\n",
       " '\"PRD_PROD.STAGING.\\\\\"part_plays_fact\\\\\"\"',\n",
       " '\"PRD_PROD.ANALYTICS.\\\\\"fiscal_date_dimension\\\\\"\"',\n",
       " '\"PRD_PROD.ANALYTICS.\\\\\"content_dimension\\\\\"\"',\n",
       " '\"PRD_PROD.STAGING.\\\\\"content_dimension_join_won\\\\\"\"',\n",
       " '\"PRD_PROD.ANALYTICS.\\\\\"won_vod_event_enriched\\\\\"\"',\n",
       " '\"PRD_PROD.STAGING.\\\\\"whtonv_WON_VOD_EVENT_ENRICHED_STAGING\\\\\"\"',\n",
       " '\"PRD_PROD.STAGING.\\\\\"whtonv_REGION_LATEST\\\\\"\"',\n",
       " '\"EDM_PROD.OPEN_DOTS.\\\\\"Messages\\\\\"\"',\n",
       " '\"PRD_PROD.STAGING.\\\\\"whtonv_CONTRACT_LATEST\\\\\"\"',\n",
       " '\"PRD_PROD.STAGING.\\\\\"whtonv_VODRIGHT_LATEST\\\\\"\"',\n",
       " '\"PRD_PROD.STAGING.\\\\\"whtonv_VODMEDIA_LATEST\\\\\"\"',\n",
       " '\"PRD_PROD.STAGING.\\\\\"whtonv_RIGHTSHOLDER_LATEST\\\\\"\"',\n",
       " '\"PRD_PROD.STAGING.\\\\\"whtonv_VODPRODUCT_LATEST\\\\\"\"',\n",
       " '\"PRD_PROD.STAGING.\\\\\"whtonv_VODEVENT_LATEST\\\\\"\"',\n",
       " '\"PRD_PROD.STAGING.\\\\\"content_dimension_clean\\\\\"\"',\n",
       " '\"PRD_PROD.STAGING.\\\\\"content_dimension_backfill\\\\\"\"',\n",
       " '\"PRD_PROD.STAGING.\\\\\"content_dimension_dedup\\\\\"\"',\n",
       " '\"PRD_PROD.STAGING.\\\\\"join_articles_to_fixtures\\\\\"\"',\n",
       " '\"PRD_PROD.STAGING.\\\\\"window_fixtures_dedup\\\\\"\"',\n",
       " '\"PRD_PROD.STAGING.\\\\\"unnest_features\\\\\"\"',\n",
       " '\"EDM_PROD.OPEN_PCMS.\\\\\"Fixtures\\\\\"\"',\n",
       " '\"EDM_PROD.OPEN_PCMS.\\\\\"PCMSFixtures_JSON_ST\\\\\"\"',\n",
       " '\"PRD_PROD.STAGING.\\\\\"unnest_sports_dedup\\\\\"\"',\n",
       " '\"PRD_PROD.STAGING.\\\\\"unnest_sports\\\\\"\"',\n",
       " '\"PRD_PROD.STAGING.\\\\\"unnest_competitions_dedup\\\\\"\"',\n",
       " '\"PRD_PROD.STAGING.\\\\\"unnest_competitions\\\\\"\"',\n",
       " '\"PRD_PROD.STAGING.\\\\\"part_unnest_articles\\\\\"\"',\n",
       " '\"PRD_PROD.STAGING.\\\\\"join_stacked_articles_to_local_language\\\\\"\"',\n",
       " '\"PRD_PROD.STAGING.\\\\\"get_local_titles_dedup\\\\\"\"',\n",
       " '\"PRD_PROD.STAGING.\\\\\"get_local_titles\\\\\"\"',\n",
       " '\"PRD_PROD.STAGING.\\\\\"all_links_flattened\\\\\"\"',\n",
       " '\"EDM_PROD.OPEN_PCMS.\\\\\"Articles\\\\\"\"',\n",
       " '\"EDM_PROD.OPEN_PCMS.\\\\\"PCMSArticles_JSON_ST\\\\\"\"',\n",
       " '\"PRD_PROD.STAGING.\\\\\"dedup_stacked_articles\\\\\"\"',\n",
       " '\"PRD_PROD.STAGING.\\\\\"stack_all_articles\\\\\"\"',\n",
       " '\"PRD_PROD.STAGING.\\\\\"join_up_articles\\\\\"\"',\n",
       " '\"PRD_PROD.STAGING.\\\\\"get_fixtures\\\\\"\"',\n",
       " '\"PRD_PROD.STAGING.\\\\\"get_language_link\\\\\"\"',\n",
       " '\"PRD_PROD.STAGING.\\\\\"get_livestream\\\\\"\"',\n",
       " '\"PRD_PROD.STAGING.\\\\\"get_sports\\\\\"\"',\n",
       " '\"PRD_PROD.STAGING.\\\\\"get_articles\\\\\"\"',\n",
       " '\"PRD_PROD.STAGING.\\\\\"get_competitions\\\\\"\"',\n",
       " '\"PRD_PROD.STAGING.\\\\\"join_up_mta_articles\\\\\"\"',\n",
       " '\"PRD_PROD.STAGING.\\\\\"get_mta_articles\\\\\"\"',\n",
       " '\"PRD_PROD.STAGING.\\\\\"backfill_content_dimension\\\\\"\"',\n",
       " '\"EDM_PROD.\\\\\"Redshift_V1\\\\\".CONTENT_DIMENSION\"',\n",
       " '\"PRD_PROD.ANALYTICS.\\\\\"won_live_event_enriched\\\\\"\"',\n",
       " '\"PRD_PROD.STAGING.\\\\\"whtonr_WON_LIVE_EVENT_ENRICHED_STAGING\\\\\"\"',\n",
       " '\"PRD_PROD.STAGING.\\\\\"whtonr_CONTRACT_LATEST\\\\\"\"',\n",
       " '\"PRD_PROD.STAGING.\\\\\"whtonr_REGION_LATEST\\\\\"\"',\n",
       " '\"PRD_PROD.STAGING.\\\\\"whtonr_LIVEEVENT_FULL_SCHEDULE\\\\\"\"',\n",
       " '\"PRD_PROD.STAGING.\\\\\"whtonr_LIVEEVENT_LATEST\\\\\"\"',\n",
       " '\"PRD_PROD.STAGING.\\\\\"whtonr_PRELIMLIVEEVENT_LATEST\\\\\"\"',\n",
       " '\"PRD_PROD.STAGING.\\\\\"whtonr_LIVEPRODUCT_LATEST\\\\\"\"',\n",
       " '\"PRD_PROD.STAGING.\\\\\"whtonr_LIVERIGHT_LATEST\\\\\"\"',\n",
       " '\"PRD_PROD.STAGING.\\\\\"whtonr_RIGHTSHOLDER_LATEST\\\\\"\"',\n",
       " '\"PRD_PROD.ANALYTICS.\\\\\"device_dimension_adjusted\\\\\"\"',\n",
       " '\"PRD_PROD.STAGING.\\\\\"tmp_device_dimension\\\\\"\"',\n",
       " '\"EDM_PROD.OPEN_DEVICEATLAS.\\\\\"DeviceProperties\\\\\"\"',\n",
       " '\"EDM_PROD.OPEN_DEVICEATLAS.\\\\\"DeviceProperties_Tmp\\\\\"\"',\n",
       " '\"EDM_PROD.OPEN_DEVICEATLAS.\\\\\"UserAgent_ST\\\\\"\"',\n",
       " '\"EDM_PROD.OPEN_DEVICEATLAS.\\\\\"UserAgentList_Tmp\\\\\"\"',\n",
       " '\"PRD_PROD.STAGING.\\\\\"b2b_pfdn_pre1\\\\\"\"',\n",
       " '\"PRD_PROD.ANALYTICS.\\\\\"commercial_premises_history_scd\\\\\"\"',\n",
       " '\"PRD_PROD.STAGING.\\\\\"calculate_errors\\\\\"\"',\n",
       " '\"PRD_PROD.STAGING.WATCH_PARTY_SESSIONS\"',\n",
       " '\"EDM_PROD.OPEN_TOTALREKALL.\\\\\"SessionSummary\\\\\"\"',\n",
       " '\"PRD_PROD.STAGING.\\\\\"wp_participants\\\\\"\"']"
      ]
     },
     "execution_count": 38,
     "metadata": {},
     "output_type": "execute_result"
    }
   ],
   "source": [
    "get_lineage(table_name,access_history)"
   ]
  },
  {
   "cell_type": "code",
   "execution_count": 39,
   "metadata": {},
   "outputs": [
    {
     "data": {
      "text/plain": [
       "['\"PRD_PROD.STAGING.\\\\\"get_livestream\\\\\"\"',\n",
       " '\"PRD_PROD.STAGING.\\\\\"get_sports\\\\\"\"',\n",
       " '\"PRD_PROD.STAGING.\\\\\"get_articles\\\\\"\"',\n",
       " '\"PRD_PROD.STAGING.\\\\\"get_competitions\\\\\"\"',\n",
       " '\"PRD_PROD.STAGING.\\\\\"join_up_mta_articles\\\\\"\"',\n",
       " '\"PRD_PROD.STAGING.\\\\\"get_mta_articles\\\\\"\"',\n",
       " '\"PRD_PROD.STAGING.\\\\\"backfill_content_dimension\\\\\"\"',\n",
       " '\"EDM_PROD.\\\\\"Redshift_V1\\\\\".CONTENT_DIMENSION\"',\n",
       " '\"PRD_PROD.ANALYTICS.\\\\\"won_live_event_enriched\\\\\"\"',\n",
       " '\"PRD_PROD.STAGING.\\\\\"whtonr_WON_LIVE_EVENT_ENRICHED_STAGING\\\\\"\"',\n",
       " '\"PRD_PROD.STAGING.\\\\\"whtonr_CONTRACT_LATEST\\\\\"\"',\n",
       " '\"PRD_PROD.STAGING.\\\\\"whtonr_REGION_LATEST\\\\\"\"',\n",
       " '\"PRD_PROD.STAGING.\\\\\"whtonr_LIVEEVENT_FULL_SCHEDULE\\\\\"\"',\n",
       " '\"PRD_PROD.STAGING.\\\\\"whtonr_LIVEEVENT_LATEST\\\\\"\"',\n",
       " '\"PRD_PROD.STAGING.\\\\\"whtonr_PRELIMLIVEEVENT_LATEST\\\\\"\"',\n",
       " '\"PRD_PROD.STAGING.\\\\\"whtonr_LIVEPRODUCT_LATEST\\\\\"\"',\n",
       " '\"PRD_PROD.STAGING.\\\\\"whtonr_LIVERIGHT_LATEST\\\\\"\"',\n",
       " '\"PRD_PROD.STAGING.\\\\\"whtonr_RIGHTSHOLDER_LATEST\\\\\"\"',\n",
       " '\"PRD_PROD.ANALYTICS.\\\\\"device_dimension_adjusted\\\\\"\"',\n",
       " '\"PRD_PROD.STAGING.\\\\\"tmp_device_dimension\\\\\"\"',\n",
       " '\"EDM_PROD.OPEN_DEVICEATLAS.\\\\\"DeviceProperties\\\\\"\"',\n",
       " '\"EDM_PROD.OPEN_DEVICEATLAS.\\\\\"DeviceProperties_Tmp\\\\\"\"',\n",
       " '\"EDM_PROD.OPEN_DEVICEATLAS.\\\\\"UserAgent_ST\\\\\"\"',\n",
       " '\"EDM_PROD.OPEN_DEVICEATLAS.\\\\\"UserAgentList_Tmp\\\\\"\"',\n",
       " '\"PRD_PROD.STAGING.\\\\\"b2b_pfdn_pre1\\\\\"\"',\n",
       " '\"PRD_PROD.ANALYTICS.\\\\\"commercial_premises_history_scd\\\\\"\"',\n",
       " '\"PRD_PROD.STAGING.\\\\\"calculate_errors\\\\\"\"',\n",
       " '\"PRD_PROD.STAGING.WATCH_PARTY_SESSIONS\"',\n",
       " '\"EDM_PROD.OPEN_TOTALREKALL.\\\\\"SessionSummary\\\\\"\"',\n",
       " '\"PRD_PROD.STAGING.\\\\\"wp_participants\\\\\"\"']"
      ]
     },
     "execution_count": 39,
     "metadata": {},
     "output_type": "execute_result"
    }
   ],
   "source": [
    "lineage[-30:]"
   ]
  },
  {
   "cell_type": "code",
   "execution_count": 40,
   "metadata": {},
   "outputs": [
    {
     "data": {
      "text/plain": [
       "['\"PRD_PROD.ANALYTICS.\\\\\"watch_party_sessions_enriched\\\\\"\"',\n",
       " '\"PRD_PROD.ANALYTICS.\\\\\"watch_party_sessions_enriched__dbt_tmp\\\\\"\"',\n",
       " '\"PRD_PROD.STAGING.\\\\\"watch_party_load\\\\\"\"',\n",
       " '\"PRD_PROD.STAGING.\\\\\"watch_party_daily_load\\\\\"\"',\n",
       " '\"PRD_PROD.STAGING.PLAYS_FACT_SAMPLE\"',\n",
       " '\"PRD_PROD.ANALYTICS.\\\\\"plays_fact_dn\\\\\"\"',\n",
       " '\"PRD_PROD.ANALYTICS.\\\\\"plays_fact_dn__dbt_tmp\\\\\"\"',\n",
       " '\"PRD_PROD.STAGING.\\\\\"join_errors_back_in\\\\\"\"',\n",
       " '\"PRD_PROD.STAGING.\\\\\"plays_fact_dn_temp\\\\\"\"',\n",
       " '\"PRD_PROD.STAGING.\\\\\"b2c_pfdn_pre1\\\\\"\"',\n",
       " '\"PRD_PROD.ANALYTICS.\\\\\"region_dimension\\\\\"\"',\n",
       " '\"PRD_PROD.STAGING.UNION_CUSTOMER_ROWS\"',\n",
       " '\"PRD_PROD.STAGING.GET_ALL_ROWS\"',\n",
       " '\"PRD_PROD.ANALYTICS.\\\\\"customer_history_scd\\\\\"\"',\n",
       " '\"PRD_PROD.STAGING.\\\\\"non_quarantined_scd_data\\\\\"\"',\n",
       " '\"PRD_PROD.STAGING.\\\\\"sql_customer_dimension_quarantine_dt\\\\\"\"',\n",
       " '\"PRD_PROD.STAGING.\\\\\"partition_customer_scd_temp_dt\\\\\"\"',\n",
       " '\"PRD_PROD.STAGING.\\\\\"join_add_detail_temp_dt\\\\\"\"',\n",
       " '\"PRD_PROD.ANALYTICS.\\\\\"oem_partners_dimension\\\\\"\"',\n",
       " '\"PRD_PROD.STAGING.\\\\\"partition_add_detail_temp_dt\\\\\"\"',\n",
       " '\"PRD_PROD.ANALYTICS.\\\\\"customer_history_scd_raw\\\\\"\"',\n",
       " '\"PRD_PROD.ANALYTICS.\\\\\"billed_amount_scd\\\\\"\"',\n",
       " '\"PRD_PROD.ANALYTICS.\\\\\"enriched_invoices\\\\\"\"',\n",
       " '\"EDM_PROD.OPEN_ZUORAV2.\\\\\"InvoiceItem\\\\\"\"',\n",
       " '\"EDM_PROD.OPEN_ZUORAV2.\\\\\"InvoiceItem_Tmp\\\\\"\"',\n",
       " '\"EDM_PROD.OPEN_ZUORAV2.\\\\\"Stage_ZuoraV2\\\\\"\"',\n",
       " '\"EDM_PROD.OPEN_ZUORAV2.\\\\\"InvoiceItemAdjustment\\\\\"\"',\n",
       " '\"EDM_PROD.OPEN_ZUORAV2.\\\\\"InvoiceItemAdjustment_Tmp\\\\\"\"',\n",
       " '\"EDM_PROD.OPEN_ZUORAV2.\\\\\"Invoice\\\\\"\"',\n",
       " '\"EDM_PROD.OPEN_ZUORAV2.\\\\\"Invoice_Tmp\\\\\"\"',\n",
       " '\"EDM_PROD.OPEN_ZUORAV2.\\\\\"Account\\\\\"\"',\n",
       " '\"EDM_PROD.OPEN_ZUORAV2.\\\\\"Subscription\\\\\"\"',\n",
       " '\"PRD_PROD.STAGING.\\\\\"filter_payments_scd_temp_dt\\\\\"\"',\n",
       " '\"PRD_PROD.ANALYTICS.\\\\\"zuora_payments_scd\\\\\"\"',\n",
       " '\"PRD_PROD.STAGING.SET_EFFECTIVE_DATES\"',\n",
       " '\"PRD_PROD.STAGING.GET_LATEST_PAYMENT\"',\n",
       " '\"PRD_PROD.STAGING.JOIN_PAYMENT_TO_ID\"',\n",
       " '\"EDM_PROD.OPEN_ZUORAV2.\\\\\"Payment\\\\\"\"',\n",
       " '\"EDM_PROD.OPEN_ZUORAV2.\\\\\"Payment_Tmp\\\\\"\"',\n",
       " '\"PRD_PROD.ANALYTICS.\\\\\"s3_adyen_response_codes_mapping\\\\\"\"',\n",
       " '\"PRD_PROD.ANALYTICS.\\\\\"customer_identity_dimension\\\\\"\"',\n",
       " '\"PRD_PROD.STAGING.\\\\\"sql_payments_quarantine_temp_dt\\\\\"\"',\n",
       " '\"PRD_PROD.STAGING.\\\\\"filter_sf_account_scd_temp_dt\\\\\"\"',\n",
       " '\"PRD_PROD.ANALYTICS.\\\\\"salesforce_account_history_scd\\\\\"\"',\n",
       " '\"PRD_PROD.STAGING.\\\\\"partition_sf_account_temp_dt\\\\\"\"',\n",
       " '\"PRD_PROD.STAGING.\\\\\"dedup_rows_1\\\\\"\"',\n",
       " '\"PRD_PROD.STAGING.\\\\\"join_account_to_user\\\\\"\"',\n",
       " '\"EDM_PROD.OPEN_SALESFORCE.\\\\\"Account\\\\\"\"',\n",
       " '\"EDM_PROD.OPEN_SALESFORCE.\\\\\"User\\\\\"\"',\n",
       " '\"PRD_PROD.STAGING.\\\\\"sql_sf_accounts_quarantine_temp_dt\\\\\"\"',\n",
       " '\"PRD_PROD.STAGING.FILTER_SUB_TYPE_SCD\"',\n",
       " '\"PRD_PROD.ANALYTICS.\\\\\"zuora_subscription_type_scd\\\\\"\"',\n",
       " '\"PRD_PROD.STAGING.\\\\\"d2d_dummy_data\\\\\"\"',\n",
       " '\"PRD_PROD.STAGING.RATEPLAN_DUMMY_DATA\"',\n",
       " '\"PRD_PROD.STAGING.\\\\\"filter_pm_scd_temp_dt\\\\\"\"',\n",
       " '\"PRD_PROD.ANALYTICS.\\\\\"zuora_payment_method_scd\\\\\"\"',\n",
       " '\"PRD_PROD.STAGING.\\\\\"pay_join_pm_changes_temp_dt\\\\\"\"',\n",
       " '\"PRD_PROD.STAGING.\\\\\"pay_group_changes_temp_dt\\\\\"\"',\n",
       " '\"PRD_PROD.STAGING.\\\\\"pay_partition_change_flag_temp_dt_joined\\\\\"\"',\n",
       " '\"PRD_PROD.ANALYTICS.\\\\\"zuora_account_scd\\\\\"\"',\n",
       " '\"PRD_PROD.STAGING.\\\\\"sql_accounts_quarantine_temp_dt\\\\\"\"',\n",
       " '\"PRD_PROD.STAGING.\\\\\"partition_account_scd_temp_dt\\\\\"\"',\n",
       " '\"PRD_PROD.STAGING.CLEAN_CRMID\"',\n",
       " '\"PRD_PROD.STAGING.\\\\\"pay_partition_change_flag_temp_dt\\\\\"\"',\n",
       " '\"PRD_PROD.STAGING.\\\\\"pay_partition_payment_method_temp_dt_1\\\\\"\"',\n",
       " '\"PRD_PROD.STAGING.\\\\\"partition_payment_method_temp_dt\\\\\"\"',\n",
       " '\"EDM_PROD.OPEN_ZUORAV2.\\\\\"PaymentMethod\\\\\"\"',\n",
       " '\"PRD_PROD.ANALYTICS.\\\\\"zuora_subscription_scd\\\\\"\"',\n",
       " '\"PRD_PROD.STAGING.\\\\\"sql_subscription_quarantine_temp_dt\\\\\"\"',\n",
       " '\"PRD_PROD.STAGING.\\\\\"partition_amendments_sc_temp_dt\\\\\"\"',\n",
       " '\"PRD_PROD.STAGING.\\\\\"partition_amendments_temp_dt\\\\\"\"',\n",
       " '\"PRD_PROD.STAGING.\\\\\"join_amendments_temp_dt\\\\\"\"',\n",
       " '\"PRD_PROD.STAGING.\\\\\"partition_amendment_scd_temp_dt\\\\\"\"',\n",
       " '\"EDM_PROD.OPEN_ZUORAV2.\\\\\"Amendment\\\\\"\"',\n",
       " '\"EDM_PROD.OPEN_ZUORAV2.\\\\\"Amendment_Tmp\\\\\"\"',\n",
       " '\"PRD_PROD.STAGING.\\\\\"partition_subscriptions_scd_temp_dt\\\\\"\"',\n",
       " '\"PRD_PROD.STAGING.\\\\\"join_subscription_crm_temp_dt\\\\\"\"',\n",
       " '\"PRD_PROD.STAGING.\\\\\"partition_subscription_dedup_temp_dt\\\\\"\"',\n",
       " '\"PRD_PROD.STAGING.\\\\\"pay_group_payment_method_temp_dt\\\\\"\"',\n",
       " '\"PRD_PROD.STAGING.\\\\\"sql_payment_method_quarantine_temp_dt\\\\\"\"',\n",
       " '\"PRD_PROD.STAGING.\\\\\"filter_accounts_scd_temp_dt\\\\\"\"',\n",
       " '\"PRD_PROD.STAGING.\\\\\"filter_giftcode_scd_temp_dt\\\\\"\"',\n",
       " '\"PRD_PROD.ANALYTICS.\\\\\"salesforce_giftcode_history_scd\\\\\"\"',\n",
       " '\"PRD_PROD.STAGING.\\\\\"sql_giftcode_quarantine\\\\\"\"',\n",
       " '\"PRD_PROD.STAGING.\\\\\"windows_giftcode\\\\\"\"',\n",
       " '\"EDM_PROD.OPEN_SALESFORCE.\\\\\"GiftCode\\\\\"\"',\n",
       " '\"EDM_PROD.OPEN_SALESFORCE.\\\\\"GiftCode_Tmp\\\\\"\"',\n",
       " '\"EDM_PROD.OPEN_SALESFORCE.\\\\\"Salesforce_Csv_ST\\\\\"\"',\n",
       " '\"PRD_PROD.STAGING.\\\\\"sql_sf_accounts_date_ranges_temp_dt\\\\\"\"',\n",
       " '\"PRD_PROD.STAGING.\\\\\"filter_subscription_scd_temp_dt\\\\\"\"',\n",
       " '\"PRD_PROD.ANALYTICS.\\\\\"cust_hist_scd_test_sample\\\\\"\"',\n",
       " '\"PRD_PROD.ANALYTICS.\\\\\"docomo_test_users_fact\\\\\"\"',\n",
       " '\"PRD_PROD.ANALYTICS.\\\\\"docomo_test_users_fact__dbt_tmp\\\\\"\"',\n",
       " '\"PRD_PROD.STAGING.\\\\\"docomo_daily_load\\\\\"\"',\n",
       " '\"PRD_PROD.ANALYTICS.\\\\\"customer_type_trans_dimension\\\\\"\"',\n",
       " '\"PRD_PROD.ANALYTICS.\\\\\"first_seen_datetime_fact\\\\\"\"',\n",
       " '\"PRD_PROD.ANALYTICS.\\\\\"first_seen_datetime_fact__dbt_tmp\\\\\"\"',\n",
       " '\"PRD_PROD.STAGING.GET_GA_ROWS\"',\n",
       " '\"EDM_PROD.OPEN_GOOGLEANALYTICS.\\\\\"FlatSession\\\\\"\"',\n",
       " '\"EDM_PROD.OPEN_GOOGLEANALYTICS.\\\\\"Open_Session_Tmp\\\\\"\"',\n",
       " '\"EDM_PROD.OPEN_GOOGLEANALYTICS.\\\\\"Session_Tmp\\\\\"\"',\n",
       " '\"EDM_PROD.OPEN_GOOGLEANALYTICS.\\\\\"Session_Avro_ST\\\\\"\"',\n",
       " '\"PRD_PROD.STAGING.GET_FB_ROWS\"',\n",
       " '\"EDM_PROD.OPEN_FIREBASEANALYTICS.\\\\\"FlatEvent\\\\\"\"',\n",
       " '\"PRD_PROD.STAGING.GET_CONVIVA_ROWS\"',\n",
       " '\"EDM_PROD.OPEN_CONVIVAEXPERIENCESSD.\\\\\"SessionSourceData\\\\\"\"',\n",
       " '\"PRD_PROD.STAGING.CUSTOMER_DATA_CLEANED\"',\n",
       " '\"PRD_PROD.STAGING.\\\\\"part_plays_fact\\\\\"\"',\n",
       " '\"PRD_PROD.ANALYTICS.\\\\\"fiscal_date_dimension\\\\\"\"',\n",
       " '\"PRD_PROD.ANALYTICS.\\\\\"content_dimension\\\\\"\"',\n",
       " '\"PRD_PROD.STAGING.\\\\\"content_dimension_join_won\\\\\"\"',\n",
       " '\"PRD_PROD.ANALYTICS.\\\\\"won_vod_event_enriched\\\\\"\"',\n",
       " '\"PRD_PROD.STAGING.\\\\\"whtonv_WON_VOD_EVENT_ENRICHED_STAGING\\\\\"\"',\n",
       " '\"PRD_PROD.STAGING.\\\\\"whtonv_REGION_LATEST\\\\\"\"',\n",
       " '\"EDM_PROD.OPEN_DOTS.\\\\\"Messages\\\\\"\"',\n",
       " '\"PRD_PROD.STAGING.\\\\\"whtonv_CONTRACT_LATEST\\\\\"\"',\n",
       " '\"PRD_PROD.STAGING.\\\\\"whtonv_VODRIGHT_LATEST\\\\\"\"',\n",
       " '\"PRD_PROD.STAGING.\\\\\"whtonv_VODMEDIA_LATEST\\\\\"\"',\n",
       " '\"PRD_PROD.STAGING.\\\\\"whtonv_RIGHTSHOLDER_LATEST\\\\\"\"',\n",
       " '\"PRD_PROD.STAGING.\\\\\"whtonv_VODPRODUCT_LATEST\\\\\"\"',\n",
       " '\"PRD_PROD.STAGING.\\\\\"whtonv_VODEVENT_LATEST\\\\\"\"',\n",
       " '\"PRD_PROD.STAGING.\\\\\"content_dimension_clean\\\\\"\"',\n",
       " '\"PRD_PROD.STAGING.\\\\\"content_dimension_backfill\\\\\"\"',\n",
       " '\"PRD_PROD.STAGING.\\\\\"content_dimension_dedup\\\\\"\"',\n",
       " '\"PRD_PROD.STAGING.\\\\\"join_articles_to_fixtures\\\\\"\"',\n",
       " '\"PRD_PROD.STAGING.\\\\\"window_fixtures_dedup\\\\\"\"',\n",
       " '\"PRD_PROD.STAGING.\\\\\"unnest_features\\\\\"\"',\n",
       " '\"EDM_PROD.OPEN_PCMS.\\\\\"Fixtures\\\\\"\"',\n",
       " '\"EDM_PROD.OPEN_PCMS.\\\\\"PCMSFixtures_JSON_ST\\\\\"\"',\n",
       " '\"PRD_PROD.STAGING.\\\\\"unnest_sports_dedup\\\\\"\"',\n",
       " '\"PRD_PROD.STAGING.\\\\\"unnest_sports\\\\\"\"',\n",
       " '\"PRD_PROD.STAGING.\\\\\"unnest_competitions_dedup\\\\\"\"',\n",
       " '\"PRD_PROD.STAGING.\\\\\"unnest_competitions\\\\\"\"',\n",
       " '\"PRD_PROD.STAGING.\\\\\"part_unnest_articles\\\\\"\"',\n",
       " '\"PRD_PROD.STAGING.\\\\\"join_stacked_articles_to_local_language\\\\\"\"',\n",
       " '\"PRD_PROD.STAGING.\\\\\"get_local_titles_dedup\\\\\"\"',\n",
       " '\"PRD_PROD.STAGING.\\\\\"get_local_titles\\\\\"\"',\n",
       " '\"PRD_PROD.STAGING.\\\\\"all_links_flattened\\\\\"\"',\n",
       " '\"EDM_PROD.OPEN_PCMS.\\\\\"Articles\\\\\"\"',\n",
       " '\"EDM_PROD.OPEN_PCMS.\\\\\"PCMSArticles_JSON_ST\\\\\"\"',\n",
       " '\"PRD_PROD.STAGING.\\\\\"dedup_stacked_articles\\\\\"\"',\n",
       " '\"PRD_PROD.STAGING.\\\\\"stack_all_articles\\\\\"\"',\n",
       " '\"PRD_PROD.STAGING.\\\\\"join_up_articles\\\\\"\"',\n",
       " '\"PRD_PROD.STAGING.\\\\\"get_fixtures\\\\\"\"',\n",
       " '\"PRD_PROD.STAGING.\\\\\"get_language_link\\\\\"\"',\n",
       " '\"PRD_PROD.STAGING.\\\\\"get_livestream\\\\\"\"',\n",
       " '\"PRD_PROD.STAGING.\\\\\"get_sports\\\\\"\"',\n",
       " '\"PRD_PROD.STAGING.\\\\\"get_articles\\\\\"\"',\n",
       " '\"PRD_PROD.STAGING.\\\\\"get_competitions\\\\\"\"',\n",
       " '\"PRD_PROD.STAGING.\\\\\"join_up_mta_articles\\\\\"\"',\n",
       " '\"PRD_PROD.STAGING.\\\\\"get_mta_articles\\\\\"\"',\n",
       " '\"PRD_PROD.STAGING.\\\\\"backfill_content_dimension\\\\\"\"',\n",
       " '\"EDM_PROD.\\\\\"Redshift_V1\\\\\".CONTENT_DIMENSION\"',\n",
       " '\"PRD_PROD.ANALYTICS.\\\\\"won_live_event_enriched\\\\\"\"',\n",
       " '\"PRD_PROD.STAGING.\\\\\"whtonr_WON_LIVE_EVENT_ENRICHED_STAGING\\\\\"\"',\n",
       " '\"PRD_PROD.STAGING.\\\\\"whtonr_CONTRACT_LATEST\\\\\"\"',\n",
       " '\"PRD_PROD.STAGING.\\\\\"whtonr_REGION_LATEST\\\\\"\"',\n",
       " '\"PRD_PROD.STAGING.\\\\\"whtonr_LIVEEVENT_FULL_SCHEDULE\\\\\"\"',\n",
       " '\"PRD_PROD.STAGING.\\\\\"whtonr_LIVEEVENT_LATEST\\\\\"\"',\n",
       " '\"PRD_PROD.STAGING.\\\\\"whtonr_PRELIMLIVEEVENT_LATEST\\\\\"\"',\n",
       " '\"PRD_PROD.STAGING.\\\\\"whtonr_LIVEPRODUCT_LATEST\\\\\"\"',\n",
       " '\"PRD_PROD.STAGING.\\\\\"whtonr_LIVERIGHT_LATEST\\\\\"\"',\n",
       " '\"PRD_PROD.STAGING.\\\\\"whtonr_RIGHTSHOLDER_LATEST\\\\\"\"',\n",
       " '\"PRD_PROD.ANALYTICS.\\\\\"device_dimension_adjusted\\\\\"\"',\n",
       " '\"PRD_PROD.STAGING.\\\\\"tmp_device_dimension\\\\\"\"',\n",
       " '\"EDM_PROD.OPEN_DEVICEATLAS.\\\\\"DeviceProperties\\\\\"\"',\n",
       " '\"EDM_PROD.OPEN_DEVICEATLAS.\\\\\"DeviceProperties_Tmp\\\\\"\"',\n",
       " '\"EDM_PROD.OPEN_DEVICEATLAS.\\\\\"UserAgent_ST\\\\\"\"',\n",
       " '\"EDM_PROD.OPEN_DEVICEATLAS.\\\\\"UserAgentList_Tmp\\\\\"\"',\n",
       " '\"PRD_PROD.STAGING.\\\\\"b2b_pfdn_pre1\\\\\"\"',\n",
       " '\"PRD_PROD.ANALYTICS.\\\\\"commercial_premises_history_scd\\\\\"\"',\n",
       " '\"PRD_PROD.STAGING.\\\\\"calculate_errors\\\\\"\"',\n",
       " '\"PRD_PROD.STAGING.WATCH_PARTY_SESSIONS\"',\n",
       " '\"EDM_PROD.OPEN_TOTALREKALL.\\\\\"SessionSummary\\\\\"\"',\n",
       " '\"PRD_PROD.STAGING.\\\\\"wp_participants\\\\\"\"']"
      ]
     },
     "execution_count": 40,
     "metadata": {},
     "output_type": "execute_result"
    }
   ],
   "source": [
    "lineage_dedup = list(dict.fromkeys(lineage))\n",
    "lineage_dedup"
   ]
  },
  {
   "cell_type": "code",
   "execution_count": 54,
   "metadata": {},
   "outputs": [],
   "source": [
    "table_name = 'test'\n",
    "lineage = pd.DataFrame({\"table_name\": [table_name], \"cost\":[0]})"
   ]
  },
  {
   "cell_type": "code",
   "execution_count": 55,
   "metadata": {},
   "outputs": [
    {
     "data": {
      "text/html": [
       "<div>\n",
       "<style scoped>\n",
       "    .dataframe tbody tr th:only-of-type {\n",
       "        vertical-align: middle;\n",
       "    }\n",
       "\n",
       "    .dataframe tbody tr th {\n",
       "        vertical-align: top;\n",
       "    }\n",
       "\n",
       "    .dataframe thead th {\n",
       "        text-align: right;\n",
       "    }\n",
       "</style>\n",
       "<table border=\"1\" class=\"dataframe\">\n",
       "  <thead>\n",
       "    <tr style=\"text-align: right;\">\n",
       "      <th></th>\n",
       "      <th>table_name</th>\n",
       "      <th>cost</th>\n",
       "    </tr>\n",
       "  </thead>\n",
       "  <tbody>\n",
       "    <tr>\n",
       "      <th>0</th>\n",
       "      <td>test</td>\n",
       "      <td>0</td>\n",
       "    </tr>\n",
       "  </tbody>\n",
       "</table>\n",
       "</div>"
      ],
      "text/plain": [
       "  table_name  cost\n",
       "0       test     0"
      ]
     },
     "execution_count": 55,
     "metadata": {},
     "output_type": "execute_result"
    }
   ],
   "source": [
    "lineage"
   ]
  },
  {
   "cell_type": "code",
   "execution_count": 56,
   "metadata": {},
   "outputs": [
    {
     "data": {
      "text/plain": [
       "0    test\n",
       "Name: table_name, dtype: object"
      ]
     },
     "execution_count": 56,
     "metadata": {},
     "output_type": "execute_result"
    }
   ],
   "source": [
    "lineage['table_name']"
   ]
  },
  {
   "cell_type": "code",
   "execution_count": 65,
   "metadata": {},
   "outputs": [
    {
     "name": "stderr",
     "output_type": "stream",
     "text": [
      "/var/folders/1f/n5xbqlfx0vnb8ql8thv5txg05tmqnf/T/ipykernel_15667/3300819255.py:1: FutureWarning: The frame.append method is deprecated and will be removed from pandas in a future version. Use pandas.concat instead.\n",
      "  lineage = lineage.append({\"table_name\": table_name, \"cost\":0},ignore_index=True)\n"
     ]
    }
   ],
   "source": [
    "lineage = lineage.append({\"table_name\": table_name, \"cost\":0},ignore_index=True)"
   ]
  },
  {
   "cell_type": "code",
   "execution_count": 66,
   "metadata": {},
   "outputs": [
    {
     "data": {
      "text/html": [
       "<div>\n",
       "<style scoped>\n",
       "    .dataframe tbody tr th:only-of-type {\n",
       "        vertical-align: middle;\n",
       "    }\n",
       "\n",
       "    .dataframe tbody tr th {\n",
       "        vertical-align: top;\n",
       "    }\n",
       "\n",
       "    .dataframe thead th {\n",
       "        text-align: right;\n",
       "    }\n",
       "</style>\n",
       "<table border=\"1\" class=\"dataframe\">\n",
       "  <thead>\n",
       "    <tr style=\"text-align: right;\">\n",
       "      <th></th>\n",
       "      <th>table_name</th>\n",
       "      <th>cost</th>\n",
       "    </tr>\n",
       "  </thead>\n",
       "  <tbody>\n",
       "    <tr>\n",
       "      <th>0</th>\n",
       "      <td>test</td>\n",
       "      <td>0</td>\n",
       "    </tr>\n",
       "    <tr>\n",
       "      <th>1</th>\n",
       "      <td>test</td>\n",
       "      <td>0</td>\n",
       "    </tr>\n",
       "    <tr>\n",
       "      <th>2</th>\n",
       "      <td>test</td>\n",
       "      <td>0</td>\n",
       "    </tr>\n",
       "  </tbody>\n",
       "</table>\n",
       "</div>"
      ],
      "text/plain": [
       "  table_name  cost\n",
       "0       test     0\n",
       "1       test     0\n",
       "2       test     0"
      ]
     },
     "execution_count": 66,
     "metadata": {},
     "output_type": "execute_result"
    }
   ],
   "source": [
    "lineage"
   ]
  },
  {
   "cell_type": "code",
   "execution_count": null,
   "metadata": {},
   "outputs": [],
   "source": []
  }
 ],
 "metadata": {
  "interpreter": {
   "hash": "59688fbebff99851118359cb07ee3ebb9729843d02b408cccb371b9706e52f41"
  },
  "kernelspec": {
   "display_name": "Python 3.10.0 64-bit ('ads-fixtures-lookup')",
   "language": "python",
   "name": "python3"
  },
  "language_info": {
   "codemirror_mode": {
    "name": "ipython",
    "version": 3
   },
   "file_extension": ".py",
   "mimetype": "text/x-python",
   "name": "python",
   "nbconvert_exporter": "python",
   "pygments_lexer": "ipython3",
   "version": "3.10.0"
  },
  "orig_nbformat": 4
 },
 "nbformat": 4,
 "nbformat_minor": 2
}
