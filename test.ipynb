{
 "cells": [
  {
   "cell_type": "code",
   "execution_count": 95,
   "metadata": {},
   "outputs": [],
   "source": [
    "from jinja2 import Template\n",
    "import re\n",
    "import string\n",
    "import snowflake.connector\n",
    "import pandas as pd"
   ]
  },
  {
   "cell_type": "code",
   "execution_count": 117,
   "metadata": {},
   "outputs": [],
   "source": [
    "# define snowflake connection\n",
    "ctx = snowflake.connector.connect(\n",
    "    user='TRANSFORMATION_DEV_SERVICE',\n",
    "    password='T4aN5_D3w_S3erV#',\n",
    "    account='si44367.eu-central-1',\n",
    "    schema='STAGING',\n",
    "    database='TRANSFORMATION_DEV',\n",
    "    warehouse='TRANSFORMATION_DEV_XS_WH'\n",
    "    )\n",
    "\n",
    "# define run query function \n",
    "def run_query(query):\n",
    "    cs=ctx.cursor()\n",
    "    allrows=cs.execute(query).fetchall()\n",
    "    # write the results of the query into a pandas dataframe \n",
    "    df = pd.DataFrame(allrows)\n",
    "    df.columns = ['output_value']\n",
    "    # return the dataframe\n",
    "    return df"
   ]
  },
  {
   "cell_type": "markdown",
   "metadata": {},
   "source": [
    "# Test for application_category_parser"
   ]
  },
  {
   "cell_type": "code",
   "execution_count": 9,
   "metadata": {},
   "outputs": [],
   "source": [
    "# define function to test\n",
    "func_name = 'application_category_parser'\n",
    "test_value = 'skyq'"
   ]
  },
  {
   "cell_type": "code",
   "execution_count": 103,
   "metadata": {},
   "outputs": [],
   "source": [
    "# read the function\n",
    "with open('functions' + \"/\" + func_name + \".sql\", 'r') as jinja_file:\n",
    "    jinja_func = jinja_file.read()"
   ]
  },
  {
   "cell_type": "code",
   "execution_count": 105,
   "metadata": {},
   "outputs": [
    {
     "name": "stdout",
     "output_type": "stream",
     "text": [
      "CASE             WHEN LOWER(\"{{ application_type }}\") IN ('smartcast'                                                 ,'has_player'                                                 ,'tizen'                                                 ,'xfinity'                                                 ,'fairplay'                                                 ,'webos'                                                 ,'exoplayer'                                                 ,'abstract method'                                                 ,'tv web'                                                 ,'skyq'                                                 ,'mdk_sky_q'                                                 ,'roku tv'                                                 ,'shaka'                                                 ,'netcast'                                                 ,'orsay'                                                 ,'opera tv'                                                 ,'chromecast'                                                 ,'mdk_android_tv'                                                 ,'hisense'                                                 ,'xbox one'                                                 ,'playstation 4'                                                 ,'playstation 3'                                                 ,'apple tv'                                                 ,'toshiba tv'                                                 ,'panasonic tv'                                                 ,'sony tv'                                                 ,'android tv'                                                 ,'hisensejp'                                                 ,'sonyceb'                                                 ,'mdk_webmaf'                                                 ,'funai') THEN 'Living Room'         WHEN LOWER(\"{{ application_type }}\") IN ('ios', 'android') THEN 'Mobile'         WHEN LOWER(\"{{ application_type }}\") = 'web' THEN 'Web'         ELSE 'Others'         END\n"
     ]
    }
   ],
   "source": [
    "# cast the function to string and clean it\n",
    "clean_function = jinja_func.split('\\n')[2:][:-2]\n",
    "str_func = ' '.join(clean_function)\n",
    "print(str_func)"
   ]
  },
  {
   "cell_type": "code",
   "execution_count": 114,
   "metadata": {},
   "outputs": [],
   "source": [
    "jinja_func_temp = Template(str_func)\n",
    "jinja_func_final = jinja_func_temp.render({\"application_type\": 'skyq'})\n",
    "jinja_func_final = jinja_func_final.replace('\"',\"'\")"
   ]
  },
  {
   "cell_type": "code",
   "execution_count": 118,
   "metadata": {},
   "outputs": [
    {
     "data": {
      "text/html": [
       "<div>\n",
       "<style scoped>\n",
       "    .dataframe tbody tr th:only-of-type {\n",
       "        vertical-align: middle;\n",
       "    }\n",
       "\n",
       "    .dataframe tbody tr th {\n",
       "        vertical-align: top;\n",
       "    }\n",
       "\n",
       "    .dataframe thead th {\n",
       "        text-align: right;\n",
       "    }\n",
       "</style>\n",
       "<table border=\"1\" class=\"dataframe\">\n",
       "  <thead>\n",
       "    <tr style=\"text-align: right;\">\n",
       "      <th></th>\n",
       "      <th>output_value</th>\n",
       "    </tr>\n",
       "  </thead>\n",
       "  <tbody>\n",
       "    <tr>\n",
       "      <th>0</th>\n",
       "      <td>Living Room</td>\n",
       "    </tr>\n",
       "  </tbody>\n",
       "</table>\n",
       "</div>"
      ],
      "text/plain": [
       "  output_value\n",
       "0  Living Room"
      ]
     },
     "execution_count": 118,
     "metadata": {},
     "output_type": "execute_result"
    }
   ],
   "source": [
    "run_query('SELECT ' + jinja_func_final)"
   ]
  },
  {
   "cell_type": "markdown",
   "metadata": {},
   "source": [
    "# test for cdn_parser"
   ]
  },
  {
   "cell_type": "code",
   "execution_count": 119,
   "metadata": {},
   "outputs": [],
   "source": [
    "# define function to test\n",
    "func_name = 'cdn_parser'"
   ]
  },
  {
   "cell_type": "code",
   "execution_count": 120,
   "metadata": {},
   "outputs": [],
   "source": [
    "# read the function\n",
    "with open('functions' + \"/\" + func_name + \".sql\", 'r') as jinja_file:\n",
    "    jinja_func = jinja_file.read()"
   ]
  },
  {
   "cell_type": "code",
   "execution_count": 121,
   "metadata": {},
   "outputs": [
    {
     "name": "stdout",
     "output_type": "stream",
     "text": [
      "CASE     WHEN \"{{ start_time_unix }}\" >= 1506124800 AND LEFT(\"{{ stream_url }}\",40) ILIKE '%akamai%' THEN 'Akamai'     WHEN \"{{ start_time_unix }}\" >= 1506124800 AND LEFT(\"{{ stream_url }}\",40) ILIKE '%ll%' THEN 'Limelight'     WHEN \"{{ start_time_unix }}\" >= 1506124800 AND LEFT(\"{{ stream_url }}\",40) ILIKE '%cf%' THEN 'Amazon'     WHEN \"{{ start_time_unix }}\" >= 1506124800 AND \"{{ stream_url }}\" ILIKE '%perform.secure.footprint.net%' THEN 'CenturyLink'     WHEN \"{{ start_time_unix }}\" >= 1506124800 AND LEFT(\"{{ stream_url }}\",40) ILIKE '%fw%' THEN 'Flow'     WHEN \"{{ start_time_unix }}\" >= 1506124800 AND LEFT(\"{{ stream_url }}\",40) ILIKE '%vn%' THEN 'Verizon'     WHEN \"{{ start_time_unix }}\" >= 1506124800 AND LEFT(\"{{ stream_url }}\",40) ILIKE '%un%' THEN 'UDN'     WHEN \"{{ start_time_unix }}\" >= 1506124800 AND LEFT(\"{{ stream_url }}\",40) ILIKE '%dr%' THEN 'DLVR'     WHEN \"{{ start_time_unix }}\" >= 1506124800 AND LEFT(\"{{ stream_url }}\",40) ILIKE '%ac%' THEN 'Amazon'     WHEN \"{{ start_time_unix }}\" >= 1506124800 AND LEFT(\"{{ stream_url }}\",40) ILIKE '%ak%' THEN 'Akamai'     WHEN \"{{ start_time_unix }}\" >= 1506124800 AND LEFT(\"{{ stream_url }}\",40) ILIKE '%cl%' THEN 'CenturyLink'     WHEN \"{{ start_time_unix }}\" >= 1506124800 AND \"{{ stream_url }}\" ILIKE '%dazn.secure.footprint.net%' THEN 'CenturyLink'     WHEN \"{{ start_time_unix }}\" >= 1506124800 AND LEFT(\"{{ stream_url }}\",40) ILIKE '%llit%' THEN 'Limelight'     WHEN \"{{ start_time_unix }}\" >= 1506124800 AND LEFT(\"{{ stream_url }}\",40) ILIKE '%lldach%' THEN 'Limelight'     WHEN \"{{ start_time_unix }}\" >= 1506124800 AND LEFT(\"{{ stream_url }}\",40) ILIKE '%llca%' THEN 'Limelight'     WHEN \"{{ start_time_unix }}\" >= 1506124800 AND LEFT(\"{{ stream_url }}\",40) ILIKE '%lles%' THEN 'Limelight'     WHEN \"{{ start_time_unix }}\" >= 1506124800 AND LEFT(\"{{ stream_url }}\",40) ILIKE '%az%' THEN 'Microsoft Azure'     WHEN \"{{ start_time_unix }}\" >= 1506124800 AND LEFT(\"{{ stream_url }}\",40) ILIKE '%gc%' THEN 'Google'     WHEN \"{{ start_time_unix }}\" >= 1506124800 AND LEFT(\"{{ stream_url }}\",40) ILIKE '%ms%' THEN 'Mainstreaming'     WHEN \"{{ start_time_unix }}\" >= 1506124800 AND LEFT(\"{{ stream_url }}\",40) ILIKE '%br%' THEN 'Broadpeak'     WHEN \"{{ start_time_unix }}\" >= 1506124800 AND LEFT(\"{{ stream_url }}\",40) ILIKE '%sh%' THEN 'Stackpath'     WHEN \"{{ start_time_unix }}\" >= 1506124800 AND \"{{ stream_url }}\" IS NULL THEN 'Unknown'     WHEN \"{{ start_time_unix }}\" < 1506124800 THEN NULL     ELSE 'Other' END\n"
     ]
    }
   ],
   "source": [
    "# cast the function to string and clean it\n",
    "clean_function = jinja_func.split('\\n')[2:][:-2]\n",
    "str_func = ' '.join(clean_function)\n",
    "print(str_func)"
   ]
  },
  {
   "cell_type": "code",
   "execution_count": 146,
   "metadata": {},
   "outputs": [
    {
     "data": {
      "text/plain": [
       "['start_time_unix', 'stream_url']"
      ]
     },
     "execution_count": 146,
     "metadata": {},
     "output_type": "execute_result"
    }
   ],
   "source": [
    "# isolate the arguments of the function\n",
    "args = re.findall(r\"{{ (.*?) }}\", str_func)\n",
    "args = list(dict.fromkeys(args))\n",
    "args\n"
   ]
  },
  {
   "cell_type": "code",
   "execution_count": 131,
   "metadata": {},
   "outputs": [],
   "source": [
    "jinja_func_temp = Template(str_func)"
   ]
  },
  {
   "cell_type": "code",
   "execution_count": null,
   "metadata": {},
   "outputs": [],
   "source": []
  }
 ],
 "metadata": {
  "interpreter": {
   "hash": "59688fbebff99851118359cb07ee3ebb9729843d02b408cccb371b9706e52f41"
  },
  "kernelspec": {
   "display_name": "Python 3.10.0 64-bit ('ads-fixtures-lookup')",
   "language": "python",
   "name": "python3"
  },
  "language_info": {
   "codemirror_mode": {
    "name": "ipython",
    "version": 3
   },
   "file_extension": ".py",
   "mimetype": "text/x-python",
   "name": "python",
   "nbconvert_exporter": "python",
   "pygments_lexer": "ipython3",
   "version": "3.10.0"
  },
  "orig_nbformat": 4
 },
 "nbformat": 4,
 "nbformat_minor": 2
}
