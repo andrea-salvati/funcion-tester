{
 "cells": [
  {
   "cell_type": "code",
   "execution_count": 3,
   "metadata": {},
   "outputs": [],
   "source": [
    "from jinja2 import Template\n",
    "import re\n",
    "import string\n",
    "import snowflake.connector\n",
    "import pandas as pd\n",
    "import support_functions as sp\n",
    "import os"
   ]
  },
  {
   "cell_type": "code",
   "execution_count": 2,
   "metadata": {},
   "outputs": [],
   "source": [
    "# connect to snowflake\n",
    "ctx = sp.ctx_connect()"
   ]
  },
  {
   "cell_type": "code",
   "execution_count": 9,
   "metadata": {},
   "outputs": [],
   "source": [
    "# define function to test\n",
    "#func_name = 'application_category_parser'\n",
    "func_name = 'cdn_parser'"
   ]
  },
  {
   "cell_type": "code",
   "execution_count": 10,
   "metadata": {},
   "outputs": [
    {
     "name": "stdout",
     "output_type": "stream",
     "text": [
      "['start_time_unix', 'stream_url']\n"
     ]
    }
   ],
   "source": [
    "# read the function\n",
    "with open('functions' + \"/\" + func_name + \".sql\", 'r') as jinja_file:\n",
    "    jinja_func = jinja_file.read()\n",
    "\n",
    "# cast the function to string and clean it\n",
    "clean_function = jinja_func.split('\\n')[2:][:-2]\n",
    "str_func = ' '.join(clean_function)\n",
    "\n",
    "# isolate the arguments of the function\n",
    "args = re.findall(r\"{{ (.*?) }}\", str_func)\n",
    "args = list(dict.fromkeys(args))\n",
    "print(args)"
   ]
  },
  {
   "cell_type": "code",
   "execution_count": 12,
   "metadata": {},
   "outputs": [
    {
     "data": {
      "text/html": [
       "<div>\n",
       "<style scoped>\n",
       "    .dataframe tbody tr th:only-of-type {\n",
       "        vertical-align: middle;\n",
       "    }\n",
       "\n",
       "    .dataframe tbody tr th {\n",
       "        vertical-align: top;\n",
       "    }\n",
       "\n",
       "    .dataframe thead th {\n",
       "        text-align: right;\n",
       "    }\n",
       "</style>\n",
       "<table border=\"1\" class=\"dataframe\">\n",
       "  <thead>\n",
       "    <tr style=\"text-align: right;\">\n",
       "      <th></th>\n",
       "      <th>output_value</th>\n",
       "    </tr>\n",
       "  </thead>\n",
       "  <tbody>\n",
       "    <tr>\n",
       "      <th>0</th>\n",
       "      <td>Google</td>\n",
       "    </tr>\n",
       "  </tbody>\n",
       "</table>\n",
       "</div>"
      ],
      "text/plain": [
       "  output_value\n",
       "0       Google"
      ]
     },
     "execution_count": 12,
     "metadata": {},
     "output_type": "execute_result"
    }
   ],
   "source": [
    "# render jinja template\n",
    "jinja_func_temp = Template(str_func)\n",
    "# define the functions\n",
    "#jinja_func_final = jinja_func_temp.render({\"application_type\": 'skyq'})\n",
    "jinja_func_final = jinja_func_temp.render({\"start_time_unix\": '1506124801', \"stream_url\": 'gc'})\n",
    "#final clean\n",
    "jinja_func_final = jinja_func_final.replace('\"',\"'\")\n",
    "\n",
    "# run the function\n",
    "sp.run_query('SELECT ' + jinja_func_final, ctx)"
   ]
  },
  {
   "cell_type": "code",
   "execution_count": 4,
   "metadata": {},
   "outputs": [
    {
     "data": {
      "text/plain": [
       "['genuine_attempt_parser',\n",
       " 'caption_language_cleaning',\n",
       " 'hd_capable_flag_parser',\n",
       " 'application_category_parser',\n",
       " 'connection_type_parser',\n",
       " 'commentatory_language_cleaning',\n",
       " 'mob_parser',\n",
       " 'device_full_description_parser',\n",
       " 'pbb_parser',\n",
       " 'native_player_version_cleaning',\n",
       " 'device_category_cleaning',\n",
       " 'automatic_or_manual_play_parser',\n",
       " 'ond_parser',\n",
       " 'ebvs_parser',\n",
       " 'live_or_on_demand_parser',\n",
       " 'application_type_cleaning',\n",
       " 'sd_flag_parser',\n",
       " 'application_version_cleaning',\n",
       " 'startup_error_type_parser',\n",
       " 'origin_server_parser',\n",
       " 'device_hardware_type_cleaning',\n",
       " 'hd_flag_parser',\n",
       " 'engaged_play',\n",
       " 'cdn_parser']"
      ]
     },
     "execution_count": 4,
     "metadata": {},
     "output_type": "execute_result"
    }
   ],
   "source": [
    "file_list = os.listdir('functions/')\n",
    "file_list = [file.replace('.sql','') for file in file_list]\n",
    "file_list"
   ]
  },
  {
   "cell_type": "code",
   "execution_count": null,
   "metadata": {},
   "outputs": [],
   "source": []
  }
 ],
 "metadata": {
  "interpreter": {
   "hash": "1762caac45cc81314a7e275e4bbe6261d129be96156b2a4aa3f99e1e638b4035"
  },
  "kernelspec": {
   "display_name": "Python 3.10.0 64-bit ('prt-x')",
   "language": "python",
   "name": "python3"
  },
  "language_info": {
   "codemirror_mode": {
    "name": "ipython",
    "version": 3
   },
   "file_extension": ".py",
   "mimetype": "text/x-python",
   "name": "python",
   "nbconvert_exporter": "python",
   "pygments_lexer": "ipython3",
   "version": "3.10.0"
  },
  "orig_nbformat": 4
 },
 "nbformat": 4,
 "nbformat_minor": 2
}
